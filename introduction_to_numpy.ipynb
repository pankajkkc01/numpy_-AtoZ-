{
  "nbformat": 4,
  "nbformat_minor": 0,
  "metadata": {
    "colab": {
      "provenance": []
    },
    "kernelspec": {
      "name": "python3",
      "display_name": "Python 3"
    },
    "language_info": {
      "name": "python"
    }
  },
  "cells": [
    {
      "cell_type": "code",
      "execution_count": null,
      "metadata": {
        "colab": {
          "base_uri": "https://localhost:8080/"
        },
        "id": "K0d0r9ULbZ8W",
        "outputId": "1f36d2f9-930e-4c29-fc14-adabf44979eb"
      },
      "outputs": [
        {
          "output_type": "stream",
          "name": "stdout",
          "text": [
            "hello\n"
          ]
        }
      ],
      "source": [
        "print(\"hello\")"
      ]
    },
    {
      "cell_type": "markdown",
      "source": [
        "## diffrent operation on **array** and **list**"
      ],
      "metadata": {
        "id": "z-CyNLwhdNJZ"
      }
    },
    {
      "cell_type": "code",
      "source": [
        "import numpy as np\n",
        "l1=[20,30,12]\n",
        "l2=[50,20,30]\n",
        "print(l1+l2)#concatination\n",
        "\n"
      ],
      "metadata": {
        "colab": {
          "base_uri": "https://localhost:8080/"
        },
        "id": "quLvOeEUbdX8",
        "outputId": "3cb12df5-5078-4e19-a350-fbfe7d0bade4"
      },
      "execution_count": null,
      "outputs": [
        {
          "output_type": "stream",
          "name": "stdout",
          "text": [
            "[20, 30, 12, 50, 20, 30]\n"
          ]
        }
      ]
    },
    {
      "cell_type": "code",
      "source": [
        "a=np.array([20,30,40,50,60])\n",
        "b=np.array([30])\n",
        "print(a+b)# addition\n",
        "print(a*b)# multiplication\n",
        "print(a-b)# subtrraction"
      ],
      "metadata": {
        "colab": {
          "base_uri": "https://localhost:8080/"
        },
        "id": "y8rSNsqBdnCu",
        "outputId": "b3d42cf3-c076-46ed-b35a-259447d852c8"
      },
      "execution_count": null,
      "outputs": [
        {
          "output_type": "stream",
          "name": "stdout",
          "text": [
            "[50 60 70 80 90]\n",
            "[ 600  900 1200 1500 1800]\n",
            "[-10   0  10  20  30]\n"
          ]
        }
      ]
    },
    {
      "cell_type": "code",
      "source": [
        "c=np.array([20,30,\"12\"])\n",
        "print(c)#array cant hold uo multiple data type so if one string then convert all of them as string"
      ],
      "metadata": {
        "colab": {
          "base_uri": "https://localhost:8080/"
        },
        "id": "VEyUEDEWfJoY",
        "outputId": "34e42d6b-2948-479b-d262-c9ce9936aea1"
      },
      "execution_count": null,
      "outputs": [
        {
          "output_type": "stream",
          "name": "stdout",
          "text": [
            "['20' '30' '12']\n"
          ]
        }
      ]
    },
    {
      "cell_type": "markdown",
      "source": [
        "**slicing**"
      ],
      "metadata": {
        "id": "pvG10-ByjVRm"
      }
    },
    {
      "cell_type": "code",
      "source": [
        "print(a[0:2])"
      ],
      "metadata": {
        "colab": {
          "base_uri": "https://localhost:8080/"
        },
        "id": "sjFZXqAEftiE",
        "outputId": "5a2796e8-efe9-4b1b-b7e6-1edbe9e104c6"
      },
      "execution_count": null,
      "outputs": [
        {
          "output_type": "stream",
          "name": "stdout",
          "text": [
            "[20 30]\n"
          ]
        }
      ]
    },
    {
      "cell_type": "code",
      "source": [
        "d=np.array([[10,20,30,40,50],[1,2,3,4,5]])\n",
        "print(d)\n"
      ],
      "metadata": {
        "colab": {
          "base_uri": "https://localhost:8080/"
        },
        "id": "XhqDhf7Zj4Wt",
        "outputId": "635fa9e8-a7cb-44fe-8c32-de5d813bd5f1"
      },
      "execution_count": null,
      "outputs": [
        {
          "output_type": "stream",
          "name": "stdout",
          "text": [
            "[[10 20 30 40 50]\n",
            " [ 1  2  3  4  5]]\n"
          ]
        }
      ]
    },
    {
      "cell_type": "code",
      "source": [
        "print(d[0:2,0:2])#slicing must be done in the same order as of the array declared"
      ],
      "metadata": {
        "colab": {
          "base_uri": "https://localhost:8080/"
        },
        "id": "TYTvJxfRkgFO",
        "outputId": "266b7520-4456-4fe4-a23c-ac403c8dc4e5"
      },
      "execution_count": null,
      "outputs": [
        {
          "output_type": "stream",
          "name": "stdout",
          "text": [
            "[[10 20]\n",
            " [ 1  2]]\n"
          ]
        }
      ]
    },
    {
      "cell_type": "markdown",
      "source": [
        "# diffrent attributes of **array**"
      ],
      "metadata": {
        "id": "n7hlfDlzmLiZ"
      }
    },
    {
      "cell_type": "code",
      "source": [
        "print(np.shape(d))#rows,col\n",
        "print(np.size(d))#total no. of elements\n",
        "print(np.ndim(d))#dimenssion\n",
        "print(a.dtype)#data type used by array\n",
        "print(len(d))# in simple number of rows\n",
        "print(d.shape)#rows,col\n",
        "print(type(d))#say about whose array is this\n",
        "print(d.astype(float))#type cast in float"
      ],
      "metadata": {
        "colab": {
          "base_uri": "https://localhost:8080/"
        },
        "id": "WAkKIimNmTRD",
        "outputId": "49d68e21-2964-4eec-8c94-b4922cba735f"
      },
      "execution_count": null,
      "outputs": [
        {
          "output_type": "stream",
          "name": "stdout",
          "text": [
            "(2, 5)\n",
            "10\n",
            "2\n",
            "int64\n",
            "2\n",
            "(2, 5)\n",
            "<class 'numpy.ndarray'>\n",
            "[[10. 20. 30. 40. 50.]\n",
            " [ 1.  2.  3.  4.  5.]]\n"
          ]
        }
      ]
    },
    {
      "cell_type": "markdown",
      "source": [],
      "metadata": {
        "id": "OgOCce2mm8jt"
      }
    },
    {
      "cell_type": "markdown",
      "source": [
        "mathemetical **functions**"
      ],
      "metadata": {
        "id": "WHkb2PvFrXP9"
      }
    },
    {
      "cell_type": "code",
      "source": [
        "m=np.array([[20,30,40,50],[2,3,4,5]])\n",
        "n=np.array([[2,3,4,5],[20,30,40,50]])\n",
        "print(np.add(m,n))"
      ],
      "metadata": {
        "colab": {
          "base_uri": "https://localhost:8080/"
        },
        "id": "mSYKrpoVm7sH",
        "outputId": "4b071811-29df-437e-943d-bc712103e450"
      },
      "execution_count": null,
      "outputs": [
        {
          "output_type": "stream",
          "name": "stdout",
          "text": [
            "[[22 33 44 55]\n",
            " [22 33 44 55]]\n"
          ]
        }
      ]
    },
    {
      "cell_type": "code",
      "source": [
        "print(np.subtract(m,n))"
      ],
      "metadata": {
        "colab": {
          "base_uri": "https://localhost:8080/"
        },
        "id": "cV7AhtsRsaqQ",
        "outputId": "6c41a37c-b198-4ad8-e3f7-dbd6b4530778"
      },
      "execution_count": null,
      "outputs": [
        {
          "output_type": "stream",
          "name": "stdout",
          "text": [
            "[[ 18  27  36  45]\n",
            " [-18 -27 -36 -45]]\n"
          ]
        }
      ]
    },
    {
      "cell_type": "code",
      "source": [
        "print(np.multiply(m,n))"
      ],
      "metadata": {
        "colab": {
          "base_uri": "https://localhost:8080/"
        },
        "id": "3OYcCePqslsZ",
        "outputId": "cb9185fa-c96e-4ce8-b967-112deb98f844"
      },
      "execution_count": null,
      "outputs": [
        {
          "output_type": "stream",
          "name": "stdout",
          "text": [
            "[[ 40  90 160 250]\n",
            " [ 40  90 160 250]]\n"
          ]
        }
      ]
    },
    {
      "cell_type": "code",
      "source": [
        "print(np.divide(m,n))"
      ],
      "metadata": {
        "colab": {
          "base_uri": "https://localhost:8080/"
        },
        "id": "-pkeL4yms1MA",
        "outputId": "454321a7-bfe0-4c88-8dfb-dd1085f09324"
      },
      "execution_count": null,
      "outputs": [
        {
          "output_type": "stream",
          "name": "stdout",
          "text": [
            "[[10.  10.  10.  10. ]\n",
            " [ 0.1  0.1  0.1  0.1]]\n"
          ]
        }
      ]
    },
    {
      "cell_type": "code",
      "source": [
        "k=np.array([3])"
      ],
      "metadata": {
        "id": "pp_g39sRtJh4"
      },
      "execution_count": null,
      "outputs": []
    },
    {
      "cell_type": "code",
      "source": [
        "print(np.power(m,k))"
      ],
      "metadata": {
        "colab": {
          "base_uri": "https://localhost:8080/"
        },
        "id": "ITPieH98tN_y",
        "outputId": "c166e694-0fdb-4679-8dcb-9c7b6ce7d80e"
      },
      "execution_count": null,
      "outputs": [
        {
          "output_type": "stream",
          "name": "stdout",
          "text": [
            "[[  8000  27000  64000 125000]\n",
            " [     8     27     64    125]]\n"
          ]
        }
      ]
    },
    {
      "cell_type": "code",
      "source": [
        "print(np.sqrt(m))"
      ],
      "metadata": {
        "colab": {
          "base_uri": "https://localhost:8080/"
        },
        "id": "V3jm-c_BttTU",
        "outputId": "70044d33-c209-4c35-dc22-a34cd4c7414b"
      },
      "execution_count": null,
      "outputs": [
        {
          "output_type": "stream",
          "name": "stdout",
          "text": [
            "[[4.47213595 5.47722558 6.32455532 7.07106781]\n",
            " [1.41421356 1.73205081 2.         2.23606798]]\n"
          ]
        }
      ]
    },
    {
      "cell_type": "markdown",
      "source": [
        "combining  and splittiing **array**"
      ],
      "metadata": {
        "id": "2bijNMj1t_jN"
      }
    },
    {
      "cell_type": "code",
      "source": [
        "arr1= np.array([1,2,3])\n",
        "arr2=np.array([3,2,1])\n",
        "print(np.concatenate([arr1,arr2],axis=0))#for multi_dimenssion array it can be more than 0"
      ],
      "metadata": {
        "colab": {
          "base_uri": "https://localhost:8080/"
        },
        "id": "IX6uUVybuHet",
        "outputId": "417f8764-b4ec-4070-991d-25011b887456"
      },
      "execution_count": null,
      "outputs": [
        {
          "output_type": "stream",
          "name": "stdout",
          "text": [
            "[1 2 3 3 2 1]\n"
          ]
        }
      ]
    },
    {
      "cell_type": "code",
      "source": [
        "print(np.hstack([arr1,arr2]))#simmilarly for vertical kindly try them with atleast 2_d array"
      ],
      "metadata": {
        "colab": {
          "base_uri": "https://localhost:8080/"
        },
        "id": "3CBIgeIFD_7s",
        "outputId": "22b3fe72-929a-4609-e7e7-9a6cc068978e"
      },
      "execution_count": null,
      "outputs": [
        {
          "output_type": "stream",
          "name": "stdout",
          "text": [
            "[1 2 3 3 2 1]\n"
          ]
        }
      ]
    },
    {
      "cell_type": "code",
      "source": [
        "print(np.array_split(a,3))"
      ],
      "metadata": {
        "colab": {
          "base_uri": "https://localhost:8080/"
        },
        "id": "NGUUuYe0EZhP",
        "outputId": "0e23aa89-f62a-42f3-d097-b4b01b258233"
      },
      "execution_count": null,
      "outputs": [
        {
          "output_type": "stream",
          "name": "stdout",
          "text": [
            "[array([20, 30]), array([40, 50]), array([60])]\n"
          ]
        }
      ]
    },
    {
      "cell_type": "markdown",
      "source": [
        "# adding and removing elements from array"
      ],
      "metadata": {
        "id": "xpRefpbeF-2x"
      }
    },
    {
      "cell_type": "code",
      "source": [
        "print(a)\n"
      ],
      "metadata": {
        "colab": {
          "base_uri": "https://localhost:8080/"
        },
        "id": "q47nPDC5EsWX",
        "outputId": "b1506830-a00d-446f-ec62-0102b75b0dd4"
      },
      "execution_count": null,
      "outputs": [
        {
          "output_type": "stream",
          "name": "stdout",
          "text": [
            "[20 30 40 50 60]\n"
          ]
        }
      ]
    },
    {
      "cell_type": "code",
      "source": [
        "print(np.append(70,a))#70 has been appended at the starting"
      ],
      "metadata": {
        "colab": {
          "base_uri": "https://localhost:8080/"
        },
        "id": "KMTzGPGOGewq",
        "outputId": "650a27ce-0041-4457-8790-42ed70c03f22"
      },
      "execution_count": null,
      "outputs": [
        {
          "output_type": "stream",
          "name": "stdout",
          "text": [
            "[70 20 30 40 50 60]\n"
          ]
        }
      ]
    },
    {
      "cell_type": "code",
      "source": [
        "arr3=np.array([[4,5,6],[7,8,9]])\n",
        "print(np.append(arr3,[11,12]))#now appended at the end bcz element is mentioned at the  end"
      ],
      "metadata": {
        "colab": {
          "base_uri": "https://localhost:8080/"
        },
        "id": "9VqJJG3_GqBy",
        "outputId": "3a34ff0e-f597-4d3c-ceb2-e5b927601eff"
      },
      "execution_count": null,
      "outputs": [
        {
          "output_type": "stream",
          "name": "stdout",
          "text": [
            "[ 4  5  6  7  8  9 11 12]\n"
          ]
        }
      ]
    },
    {
      "cell_type": "code",
      "source": [
        "print(a)\n"
      ],
      "metadata": {
        "colab": {
          "base_uri": "https://localhost:8080/"
        },
        "id": "_3shFynTHnGR",
        "outputId": "f3f39a6d-010c-4ad8-f605-839b4cc10810"
      },
      "execution_count": null,
      "outputs": [
        {
          "output_type": "stream",
          "name": "stdout",
          "text": [
            "[20 30 40 50 60]\n"
          ]
        }
      ]
    },
    {
      "cell_type": "code",
      "source": [
        "print(np.insert(a,1,100))#at the  1 index 100 has been inserted (array,index,value)"
      ],
      "metadata": {
        "colab": {
          "base_uri": "https://localhost:8080/"
        },
        "id": "RXwwTtTlHy2T",
        "outputId": "d3e789ce-3aed-4b86-a04a-f5f3929828b9"
      },
      "execution_count": null,
      "outputs": [
        {
          "output_type": "stream",
          "name": "stdout",
          "text": [
            "[ 20 100  30  40  50  60]\n"
          ]
        }
      ]
    },
    {
      "cell_type": "code",
      "source": [
        "print(np.insert(a,1,[200,300]))"
      ],
      "metadata": {
        "colab": {
          "base_uri": "https://localhost:8080/"
        },
        "id": "udnD_WsEIGyX",
        "outputId": "6e5bddb0-6c6e-47a7-9866-984488b1071d"
      },
      "execution_count": null,
      "outputs": [
        {
          "output_type": "stream",
          "name": "stdout",
          "text": [
            "[ 20 200 300  30  40  50  60]\n"
          ]
        }
      ]
    },
    {
      "cell_type": "code",
      "source": [
        "print(arr3)"
      ],
      "metadata": {
        "colab": {
          "base_uri": "https://localhost:8080/"
        },
        "id": "uRWWSASxJTVg",
        "outputId": "05585f6d-5115-46bd-85bb-997d6a03ab76"
      },
      "execution_count": null,
      "outputs": [
        {
          "output_type": "stream",
          "name": "stdout",
          "text": [
            "[[4 5 6]\n",
            " [7 8 9]]\n"
          ]
        }
      ]
    },
    {
      "cell_type": "code",
      "source": [
        "print(np.insert(arr3,1,[400,500], axis=1))# remember axis more then one is for multidimenssion array"
      ],
      "metadata": {
        "colab": {
          "base_uri": "https://localhost:8080/"
        },
        "id": "rvBavIVTIcMC",
        "outputId": "67d6769a-d87e-41ef-8563-25377abcd612"
      },
      "execution_count": null,
      "outputs": [
        {
          "output_type": "stream",
          "name": "stdout",
          "text": [
            "[[  4 400   5   6]\n",
            " [  7 500   8   9]]\n"
          ]
        }
      ]
    },
    {
      "cell_type": "code",
      "source": [
        "print(np.insert(arr3,[1,3],[0],axis=1))"
      ],
      "metadata": {
        "colab": {
          "base_uri": "https://localhost:8080/"
        },
        "id": "TUCvsEVgJy9s",
        "outputId": "43dccbad-020b-4be5-fa6a-2d452cacc896"
      },
      "execution_count": null,
      "outputs": [
        {
          "output_type": "stream",
          "name": "stdout",
          "text": [
            "[[4 0 5 6 0]\n",
            " [7 0 8 9 0]]\n"
          ]
        }
      ]
    },
    {
      "cell_type": "code",
      "source": [
        "print(a)"
      ],
      "metadata": {
        "colab": {
          "base_uri": "https://localhost:8080/"
        },
        "id": "fMNTYyEAMOeA",
        "outputId": "deeab115-f983-46ee-895f-77f8e6935c91"
      },
      "execution_count": null,
      "outputs": [
        {
          "output_type": "stream",
          "name": "stdout",
          "text": [
            "[20 30 40 50 60]\n"
          ]
        }
      ]
    },
    {
      "cell_type": "code",
      "source": [
        "print(np.delete(a,1))"
      ],
      "metadata": {
        "colab": {
          "base_uri": "https://localhost:8080/"
        },
        "id": "HOetfzydKZN4",
        "outputId": "7fc3abfc-4ea7-4497-c7f3-a5610b278fe8"
      },
      "execution_count": null,
      "outputs": [
        {
          "output_type": "stream",
          "name": "stdout",
          "text": [
            "[20 40 50 60]\n"
          ]
        }
      ]
    },
    {
      "cell_type": "code",
      "source": [
        "print(arr3)"
      ],
      "metadata": {
        "colab": {
          "base_uri": "https://localhost:8080/"
        },
        "id": "nfteAe08MVxN",
        "outputId": "c0a0e35b-1c41-4448-946f-6f8f614bd08d"
      },
      "execution_count": null,
      "outputs": [
        {
          "output_type": "stream",
          "name": "stdout",
          "text": [
            "[[4 5 6]\n",
            " [7 8 9]]\n"
          ]
        }
      ]
    },
    {
      "cell_type": "code",
      "source": [
        "print(np.delete(arr3,1))"
      ],
      "metadata": {
        "colab": {
          "base_uri": "https://localhost:8080/"
        },
        "id": "vnGP02EVMc0M",
        "outputId": "ca196d9e-87fb-46ea-8613-0250316538cd"
      },
      "execution_count": null,
      "outputs": [
        {
          "output_type": "stream",
          "name": "stdout",
          "text": [
            "[4 6 7 8 9]\n"
          ]
        }
      ]
    },
    {
      "cell_type": "code",
      "source": [
        "print(np.delete(arr3,1,axis=0))"
      ],
      "metadata": {
        "colab": {
          "base_uri": "https://localhost:8080/"
        },
        "id": "Cpo43E1cM_48",
        "outputId": "928f1b42-e3b2-4d90-9ddb-f226d97d1f58"
      },
      "execution_count": null,
      "outputs": [
        {
          "output_type": "stream",
          "name": "stdout",
          "text": [
            "[[4 5 6]]\n"
          ]
        }
      ]
    },
    {
      "cell_type": "code",
      "source": [
        "print(np.delete(arr3,1,axis=1))"
      ],
      "metadata": {
        "colab": {
          "base_uri": "https://localhost:8080/"
        },
        "id": "Zd0_rTDsNFiY",
        "outputId": "04b44db6-5296-48e2-8492-f3ca1248853a"
      },
      "execution_count": null,
      "outputs": [
        {
          "output_type": "stream",
          "name": "stdout",
          "text": [
            "[[4 6]\n",
            " [7 9]]\n"
          ]
        }
      ]
    },
    {
      "cell_type": "markdown",
      "source": [
        "# numpy== sort,filter,search"
      ],
      "metadata": {
        "id": "BUF6B2RUNYPG"
      }
    },
    {
      "cell_type": "code",
      "source": [
        "arr4=np.array([4,8,7,9,6])\n",
        "print(arr4)"
      ],
      "metadata": {
        "colab": {
          "base_uri": "https://localhost:8080/"
        },
        "id": "pC7XgJG3NhAZ",
        "outputId": "c3a9d9f9-1281-4c98-d58c-7aada300b086"
      },
      "execution_count": null,
      "outputs": [
        {
          "output_type": "stream",
          "name": "stdout",
          "text": [
            "[4 8 7 9 6]\n"
          ]
        }
      ]
    },
    {
      "cell_type": "code",
      "source": [
        "arr5=np.array([[7,8,9,3],[4,7,5,1]])"
      ],
      "metadata": {
        "id": "GCb0YHjXaYlO"
      },
      "execution_count": null,
      "outputs": []
    },
    {
      "cell_type": "code",
      "source": [
        "print(np.sort(arr5))"
      ],
      "metadata": {
        "colab": {
          "base_uri": "https://localhost:8080/"
        },
        "id": "7LIKK8nualOk",
        "outputId": "a633115f-e7a7-456f-fc08-af3d2775c7e2"
      },
      "execution_count": null,
      "outputs": [
        {
          "output_type": "stream",
          "name": "stdout",
          "text": [
            "[[3 7 8 9]\n",
            " [1 4 5 7]]\n"
          ]
        }
      ]
    },
    {
      "cell_type": "code",
      "source": [
        "print(np.sort(arr4))"
      ],
      "metadata": {
        "colab": {
          "base_uri": "https://localhost:8080/"
        },
        "id": "j8rl5oKXaOQe",
        "outputId": "fac3e754-93ca-4c8e-a7cb-4c2823a14170"
      },
      "execution_count": null,
      "outputs": [
        {
          "output_type": "stream",
          "name": "stdout",
          "text": [
            "[4 6 7 8 9]\n"
          ]
        }
      ]
    },
    {
      "cell_type": "code",
      "source": [
        "print(np.where(arr4==8))"
      ],
      "metadata": {
        "colab": {
          "base_uri": "https://localhost:8080/"
        },
        "id": "zmTFkmICavoh",
        "outputId": "feec2444-5957-4406-8ba4-ca46a05da6f6"
      },
      "execution_count": null,
      "outputs": [
        {
          "output_type": "stream",
          "name": "stdout",
          "text": [
            "(array([1]),)\n"
          ]
        }
      ]
    },
    {
      "cell_type": "code",
      "source": [
        "print(np.where(arr4%2==0))"
      ],
      "metadata": {
        "colab": {
          "base_uri": "https://localhost:8080/"
        },
        "id": "7rQd29Cta9l-",
        "outputId": "1e5c822f-8476-4caa-9373-e76548738f7a"
      },
      "execution_count": null,
      "outputs": [
        {
          "output_type": "stream",
          "name": "stdout",
          "text": [
            "(array([0, 1, 4]),)\n"
          ]
        }
      ]
    },
    {
      "cell_type": "code",
      "source": [
        "arr6=np.array([1,2,3,4,5,6])\n",
        "fa=[True,True,True,False,False,False]#this will returen the elemntes or which the true iis assing\n",
        "new=arr6[fa]\n",
        "print(new)"
      ],
      "metadata": {
        "colab": {
          "base_uri": "https://localhost:8080/"
        },
        "id": "7EoFepJ6bo7L",
        "outputId": "2f388296-87fb-461e-98ff-0eb957d1983b"
      },
      "execution_count": null,
      "outputs": [
        {
          "output_type": "stream",
          "name": "stdout",
          "text": [
            "[1 2 3]\n"
          ]
        }
      ]
    },
    {
      "cell_type": "code",
      "source": [
        "ss=np.searchsorted(arr6,5)#use for searching an element in sorted array\n",
        "print(ss)"
      ],
      "metadata": {
        "colab": {
          "base_uri": "https://localhost:8080/"
        },
        "id": "2jL4ZLCxbFT5",
        "outputId": "e9411275-1ac2-463d-8617-6cd6f078eae9"
      },
      "execution_count": null,
      "outputs": [
        {
          "output_type": "stream",
          "name": "stdout",
          "text": [
            "4\n"
          ]
        }
      ]
    },
    {
      "cell_type": "code",
      "source": [
        "#print(np.fa[True,False,True,False,True,False]) === wrong way to done"
      ],
      "metadata": {
        "id": "v2O38pe4b9YY"
      },
      "execution_count": null,
      "outputs": []
    },
    {
      "cell_type": "code",
      "source": [],
      "metadata": {
        "id": "lrwWvhsaByRf"
      },
      "execution_count": null,
      "outputs": []
    },
    {
      "cell_type": "markdown",
      "source": [
        "# aggregating functions in numpy"
      ],
      "metadata": {
        "id": "2loiDbmvCW7x"
      }
    },
    {
      "cell_type": "code",
      "source": [
        "import numpy as np"
      ],
      "metadata": {
        "id": "GJ5Z2SNLDH1V"
      },
      "execution_count": 7,
      "outputs": []
    },
    {
      "cell_type": "code",
      "source": [
        "arr7=np.array([4,5,7,8])\n",
        "print(arr7)"
      ],
      "metadata": {
        "colab": {
          "base_uri": "https://localhost:8080/"
        },
        "id": "Uw4Eo7ogCcLz",
        "outputId": "1dead3ee-7911-4943-d413-24e01273a419"
      },
      "execution_count": 9,
      "outputs": [
        {
          "output_type": "stream",
          "name": "stdout",
          "text": [
            "[4 5 7 8]\n"
          ]
        }
      ]
    },
    {
      "cell_type": "code",
      "source": [
        "print(np.sum(arr7))#addition of values in array"
      ],
      "metadata": {
        "colab": {
          "base_uri": "https://localhost:8080/"
        },
        "id": "Idyuc7ALDP6L",
        "outputId": "b42ed101-75f3-4c20-f6fd-80f1b6ebf2fc"
      },
      "execution_count": 10,
      "outputs": [
        {
          "output_type": "stream",
          "name": "stdout",
          "text": [
            "24\n"
          ]
        }
      ]
    },
    {
      "cell_type": "code",
      "source": [
        "print(np.min(arr7))#minimum\n",
        "print(np.max(arr7))#maximum\n",
        "print(np.size(arr7))#total number of elements in array\n",
        "print(np.mean(arr7))#mean of the array"
      ],
      "metadata": {
        "colab": {
          "base_uri": "https://localhost:8080/"
        },
        "id": "yA4dolrXDbhb",
        "outputId": "35fab2e5-86d0-421a-de7b-f1feda3baf2b"
      },
      "execution_count": 14,
      "outputs": [
        {
          "output_type": "stream",
          "name": "stdout",
          "text": [
            "4\n",
            "8\n",
            "4\n",
            "6.0\n"
          ]
        }
      ]
    },
    {
      "cell_type": "code",
      "source": [
        "print(np.cumsum(arr7))#print comulative sum of the array\n",
        "print(np.cumprod(arr7))#return the commulative  product of the array"
      ],
      "metadata": {
        "colab": {
          "base_uri": "https://localhost:8080/"
        },
        "id": "wIVnqrpWECbV",
        "outputId": "82198949-5c09-444c-fd9f-860440659cb5"
      },
      "execution_count": 17,
      "outputs": [
        {
          "output_type": "stream",
          "name": "stdout",
          "text": [
            "[ 4  9 16 24]\n",
            "[   4   20  140 1120]\n"
          ]
        }
      ]
    },
    {
      "cell_type": "code",
      "source": [],
      "metadata": {
        "id": "eNIillNdD1tK"
      },
      "execution_count": null,
      "outputs": []
    },
    {
      "cell_type": "markdown",
      "source": [
        "# lets take an problem having price array and the quantity array find the **total** **amount**"
      ],
      "metadata": {
        "id": "bHXlj9VkFuTq"
      }
    },
    {
      "cell_type": "code",
      "source": [
        "price=np.array([10,20,30,40])\n",
        "qunt=np.array([1,2,3,4])\n",
        "print(price)\n",
        "print()\n",
        "arr8=np.cumprod([price,qunt],axis=0)"
      ],
      "metadata": {
        "colab": {
          "base_uri": "https://localhost:8080/"
        },
        "id": "hiITSbqYF_1n",
        "outputId": "e3fdf5f8-afe0-413b-c32f-ab8e0e9916ad"
      },
      "execution_count": 35,
      "outputs": [
        {
          "output_type": "stream",
          "name": "stdout",
          "text": [
            "[10 20 30 40]\n",
            "\n"
          ]
        }
      ]
    },
    {
      "cell_type": "code",
      "source": [
        "print(arr8)"
      ],
      "metadata": {
        "colab": {
          "base_uri": "https://localhost:8080/"
        },
        "id": "-j-iGLEGIXNS",
        "outputId": "9f22bc28-588a-4fbe-c9bf-30359e973e04"
      },
      "execution_count": 36,
      "outputs": [
        {
          "output_type": "stream",
          "name": "stdout",
          "text": [
            "[[ 10  20  30  40]\n",
            " [ 10  40  90 160]]\n"
          ]
        }
      ]
    },
    {
      "cell_type": "code",
      "source": [
        "arr9=arr8[1]"
      ],
      "metadata": {
        "id": "Ro8J27EhHvM1"
      },
      "execution_count": 37,
      "outputs": []
    },
    {
      "cell_type": "code",
      "source": [
        "print(np.sum(arr9))#hence the sum has been  obtained"
      ],
      "metadata": {
        "colab": {
          "base_uri": "https://localhost:8080/"
        },
        "id": "2_DmfkoIIFck",
        "outputId": "1ceddea9-a443-4f26-a3c5-574ae605d6c6"
      },
      "execution_count": 38,
      "outputs": [
        {
          "output_type": "stream",
          "name": "stdout",
          "text": [
            "300\n"
          ]
        }
      ]
    },
    {
      "cell_type": "markdown",
      "source": [
        "# statistical functions in numpy array"
      ],
      "metadata": {
        "id": "d2hnS_4UK8bU"
      }
    },
    {
      "cell_type": "code",
      "source": [
        "import numpy as np"
      ],
      "metadata": {
        "id": "tLgfaFIHLCRb"
      },
      "execution_count": 39,
      "outputs": []
    },
    {
      "cell_type": "code",
      "source": [
        "baked_food=np.array([100,200,300,300,400,500])#amount of carbohydrate in baked food\n",
        "print(np.mean(baked_food))#gives mean of the carbohydrate values"
      ],
      "metadata": {
        "colab": {
          "base_uri": "https://localhost:8080/"
        },
        "id": "a17_lTFCKiHX",
        "outputId": "692a7d9d-7100-4cf1-c8c3-994b18f35f2c"
      },
      "execution_count": 47,
      "outputs": [
        {
          "output_type": "stream",
          "name": "stdout",
          "text": [
            "300.0\n"
          ]
        }
      ]
    },
    {
      "cell_type": "code",
      "source": [
        "print(np.median(baked_food))#median is the center/avg of center values after the data has benn sorted"
      ],
      "metadata": {
        "colab": {
          "base_uri": "https://localhost:8080/"
        },
        "id": "jxZX9ES-LxPG",
        "outputId": "63636f56-b06e-4ae8-db26-6459f84b3588"
      },
      "execution_count": 48,
      "outputs": [
        {
          "output_type": "stream",
          "name": "stdout",
          "text": [
            "300.0\n"
          ]
        }
      ]
    },
    {
      "cell_type": "code",
      "source": [
        "#print(np.mode(baked_food))=== remember for finding the mode you have to import the \"statistic laibrery\" from paython"
      ],
      "metadata": {
        "id": "dW8L_ApUMdxh"
      },
      "execution_count": 45,
      "outputs": []
    },
    {
      "cell_type": "code",
      "source": [
        "import statistics as stati\n",
        "print(stati.mode(baked_food))#note if all occures only once the first value is returnd"
      ],
      "metadata": {
        "colab": {
          "base_uri": "https://localhost:8080/"
        },
        "id": "tBcj2v9-NMSU",
        "outputId": "56434f80-f9bd-42c1-d868-0e1ab2b56b92"
      },
      "execution_count": 53,
      "outputs": [
        {
          "output_type": "stream",
          "name": "stdout",
          "text": [
            "300\n"
          ]
        }
      ]
    },
    {
      "cell_type": "code",
      "source": [
        "print(np.std(baked_food))#stnder_deviation tells about how much diffrenece of all the values compare to the mean value\n",
        "print()#try to  make std as smaller as possible"
      ],
      "metadata": {
        "colab": {
          "base_uri": "https://localhost:8080/"
        },
        "id": "SJkaLRyQOvZh",
        "outputId": "940df6d5-158e-4c61-d0d7-3f2741d6e8e1"
      },
      "execution_count": 54,
      "outputs": [
        {
          "output_type": "stream",
          "name": "stdout",
          "text": [
            "129.09944487358058\n"
          ]
        }
      ]
    },
    {
      "cell_type": "code",
      "source": [
        "print(np.var(baked_food))#it just the square of the std having simmilar significance"
      ],
      "metadata": {
        "colab": {
          "base_uri": "https://localhost:8080/"
        },
        "id": "jMhPvLsYP9ga",
        "outputId": "2a655a9f-0ca6-4a65-f54d-02b5ff488cb1"
      },
      "execution_count": 57,
      "outputs": [
        {
          "output_type": "stream",
          "name": "stdout",
          "text": [
            "16666.666666666668\n"
          ]
        }
      ]
    },
    {
      "cell_type": "code",
      "source": [
        "print(129*129)"
      ],
      "metadata": {
        "colab": {
          "base_uri": "https://localhost:8080/"
        },
        "id": "ZhhWEsEcP9dQ",
        "outputId": "c7c3b51a-128d-4a31-9351-4e6132616e90"
      },
      "execution_count": 56,
      "outputs": [
        {
          "output_type": "stream",
          "name": "stdout",
          "text": [
            "16641\n"
          ]
        }
      ]
    },
    {
      "cell_type": "markdown",
      "source": [
        "# lets take an axample to understand the correlation"
      ],
      "metadata": {
        "id": "H7lr1RY4RKtq"
      }
    },
    {
      "cell_type": "code",
      "source": [
        "smokking=np.array([10,20,30,40,50])\n",
        "death=np.array([40,50,60,70,90])\n",
        "print(np.corrcoef([smokking,death]))#correlation help me to find the relation in between the arrays -1<=corre<=1 (0=no relation,-1 inverslly realation,1 directly realted)"
      ],
      "metadata": {
        "colab": {
          "base_uri": "https://localhost:8080/"
        },
        "id": "arPmA4SCQVwy",
        "outputId": "41531b0f-ac1c-42d4-eedb-ec268339e2ab"
      },
      "execution_count": 58,
      "outputs": [
        {
          "output_type": "stream",
          "name": "stdout",
          "text": [
            "[[1.         0.98639392]\n",
            " [0.98639392 1.        ]]\n"
          ]
        }
      ]
    },
    {
      "cell_type": "code",
      "source": [],
      "metadata": {
        "id": "WzzIkA6RQIaG"
      },
      "execution_count": null,
      "outputs": []
    }
  ]
}